{
 "cells": [
  {
   "cell_type": "code",
   "execution_count": 20,
   "id": "ce252778",
   "metadata": {},
   "outputs": [],
   "source": [
    "import pandas as pd\n",
    "from IPython.display import FileLink, FileLinks\n",
    "uploaded_file = FileLink('E:\\Data analyst\\Project\\Data cleaning\\sample_data.csv')\n",
    "data = pd.read_csv('E:\\Data analyst\\Project\\Data cleaning\\sample_data.csv', encoding='latin1')"
   ]
  },
  {
   "cell_type": "code",
   "execution_count": 8,
   "id": "baba9d2b",
   "metadata": {},
   "outputs": [
    {
     "data": {
      "text/html": [
       "<div>\n",
       "<style scoped>\n",
       "    .dataframe tbody tr th:only-of-type {\n",
       "        vertical-align: middle;\n",
       "    }\n",
       "\n",
       "    .dataframe tbody tr th {\n",
       "        vertical-align: top;\n",
       "    }\n",
       "\n",
       "    .dataframe thead th {\n",
       "        text-align: right;\n",
       "    }\n",
       "</style>\n",
       "<table border=\"1\" class=\"dataframe\">\n",
       "  <thead>\n",
       "    <tr style=\"text-align: right;\">\n",
       "      <th></th>\n",
       "      <th>ID</th>\n",
       "      <th>Name</th>\n",
       "      <th>Age</th>\n",
       "      <th>Gender</th>\n",
       "      <th>Phone</th>\n",
       "      <th>Email</th>\n",
       "      <th>Address</th>\n",
       "      <th>Credit_Score</th>\n",
       "      <th>Last_Purchase_Date</th>\n",
       "    </tr>\n",
       "  </thead>\n",
       "  <tbody>\n",
       "    <tr>\n",
       "      <th>0</th>\n",
       "      <td>177</td>\n",
       "      <td>James Rhodes</td>\n",
       "      <td>52.0</td>\n",
       "      <td>M</td>\n",
       "      <td>504.554.3776</td>\n",
       "      <td>fostergina@example.com</td>\n",
       "      <td>3892 Kathleen Square Apt. 817\\nLake Jill, AZ 1...</td>\n",
       "      <td>unknown</td>\n",
       "      <td>19.09.2021</td>\n",
       "    </tr>\n",
       "    <tr>\n",
       "      <th>1</th>\n",
       "      <td>984</td>\n",
       "      <td>Kimberly Crawford</td>\n",
       "      <td>56.0</td>\n",
       "      <td>NaN</td>\n",
       "      <td>NaN</td>\n",
       "      <td>krussell@example.com</td>\n",
       "      <td>51987 Bush Ranch Suite 663\\nScottton, PA 03611</td>\n",
       "      <td>700</td>\n",
       "      <td>25.02.2023</td>\n",
       "    </tr>\n",
       "    <tr>\n",
       "      <th>2</th>\n",
       "      <td>722</td>\n",
       "      <td>Karen Walker</td>\n",
       "      <td>59.0</td>\n",
       "      <td>M</td>\n",
       "      <td>NaN</td>\n",
       "      <td>kiarapeters@example.net</td>\n",
       "      <td>29197 Austin Flat\\nEast Robertmouth, NE 42823</td>\n",
       "      <td>870</td>\n",
       "      <td>17.09.2021</td>\n",
       "    </tr>\n",
       "    <tr>\n",
       "      <th>3</th>\n",
       "      <td>870</td>\n",
       "      <td>Sandra Smith</td>\n",
       "      <td>NaN</td>\n",
       "      <td>M</td>\n",
       "      <td>479.487.9989x242</td>\n",
       "      <td>rodney99@example.net</td>\n",
       "      <td>185 Le Villages\\nPort Johnside, WY 42113</td>\n",
       "      <td>unknown</td>\n",
       "      <td>24.11.2021</td>\n",
       "    </tr>\n",
       "    <tr>\n",
       "      <th>4</th>\n",
       "      <td>664</td>\n",
       "      <td>Alison Walsh</td>\n",
       "      <td>77.0</td>\n",
       "      <td>M</td>\n",
       "      <td>001-879-250-3309</td>\n",
       "      <td>denglish@example.com</td>\n",
       "      <td>295 Matthew Inlet Suite 676\\nJohnsonland, NC 4...</td>\n",
       "      <td>unknown</td>\n",
       "      <td>08.05.2022</td>\n",
       "    </tr>\n",
       "  </tbody>\n",
       "</table>\n",
       "</div>"
      ],
      "text/plain": [
       "    ID               Name   Age Gender             Phone  \\\n",
       "0  177       James Rhodes  52.0      M      504.554.3776   \n",
       "1  984  Kimberly Crawford  56.0    NaN               NaN   \n",
       "2  722       Karen Walker  59.0      M               NaN   \n",
       "3  870       Sandra Smith   NaN      M  479.487.9989x242   \n",
       "4  664       Alison Walsh  77.0      M  001-879-250-3309   \n",
       "\n",
       "                     Email                                            Address  \\\n",
       "0   fostergina@example.com  3892 Kathleen Square Apt. 817\\nLake Jill, AZ 1...   \n",
       "1     krussell@example.com     51987 Bush Ranch Suite 663\\nScottton, PA 03611   \n",
       "2  kiarapeters@example.net      29197 Austin Flat\\nEast Robertmouth, NE 42823   \n",
       "3     rodney99@example.net           185 Le Villages\\nPort Johnside, WY 42113   \n",
       "4     denglish@example.com  295 Matthew Inlet Suite 676\\nJohnsonland, NC 4...   \n",
       "\n",
       "  Credit_Score Last_Purchase_Date  \n",
       "0      unknown         19.09.2021  \n",
       "1          700         25.02.2023  \n",
       "2          870         17.09.2021  \n",
       "3      unknown         24.11.2021  \n",
       "4      unknown         08.05.2022  "
      ]
     },
     "execution_count": 8,
     "metadata": {},
     "output_type": "execute_result"
    }
   ],
   "source": [
    "data.head()"
   ]
  },
  {
   "cell_type": "code",
   "execution_count": 9,
   "id": "88c9e917",
   "metadata": {},
   "outputs": [
    {
     "name": "stdout",
     "output_type": "stream",
     "text": [
      "<class 'pandas.core.frame.DataFrame'>\n",
      "RangeIndex: 15 entries, 0 to 14\n",
      "Data columns (total 9 columns):\n",
      " #   Column              Non-Null Count  Dtype  \n",
      "---  ------              --------------  -----  \n",
      " 0   ID                  15 non-null     int64  \n",
      " 1   Name                15 non-null     object \n",
      " 2   Age                 12 non-null     float64\n",
      " 3   Gender              13 non-null     object \n",
      " 4   Phone               13 non-null     object \n",
      " 5   Email               15 non-null     object \n",
      " 6   Address             14 non-null     object \n",
      " 7   Credit_Score        15 non-null     object \n",
      " 8   Last_Purchase_Date  14 non-null     object \n",
      "dtypes: float64(1), int64(1), object(7)\n",
      "memory usage: 1.2+ KB\n"
     ]
    }
   ],
   "source": [
    "data.info()"
   ]
  },
  {
   "cell_type": "code",
   "execution_count": 15,
   "id": "7c014734",
   "metadata": {},
   "outputs": [
    {
     "data": {
      "text/html": [
       "<div>\n",
       "<style scoped>\n",
       "    .dataframe tbody tr th:only-of-type {\n",
       "        vertical-align: middle;\n",
       "    }\n",
       "\n",
       "    .dataframe tbody tr th {\n",
       "        vertical-align: top;\n",
       "    }\n",
       "\n",
       "    .dataframe thead th {\n",
       "        text-align: right;\n",
       "    }\n",
       "</style>\n",
       "<table border=\"1\" class=\"dataframe\">\n",
       "  <thead>\n",
       "    <tr style=\"text-align: right;\">\n",
       "      <th></th>\n",
       "      <th>ID</th>\n",
       "      <th>Name</th>\n",
       "      <th>Age</th>\n",
       "      <th>Gender</th>\n",
       "      <th>Phone</th>\n",
       "      <th>Email</th>\n",
       "      <th>Address</th>\n",
       "      <th>Credit_Score</th>\n",
       "      <th>Last_Purchase_Date</th>\n",
       "    </tr>\n",
       "  </thead>\n",
       "  <tbody>\n",
       "    <tr>\n",
       "      <th>0</th>\n",
       "      <td>177</td>\n",
       "      <td>James Rhodes</td>\n",
       "      <td>None</td>\n",
       "      <td>M</td>\n",
       "      <td>504.554.3776</td>\n",
       "      <td>fostergina@example.com</td>\n",
       "      <td>3892 Kathleen Square Apt. 817\\nLake Jill, AZ 1...</td>\n",
       "      <td>unknown</td>\n",
       "      <td>19.09.2021</td>\n",
       "    </tr>\n",
       "    <tr>\n",
       "      <th>1</th>\n",
       "      <td>984</td>\n",
       "      <td>Kimberly Crawford</td>\n",
       "      <td>None</td>\n",
       "      <td>NaN</td>\n",
       "      <td>NaN</td>\n",
       "      <td>krussell@example.com</td>\n",
       "      <td>51987 Bush Ranch Suite 663\\nScottton, PA 03611</td>\n",
       "      <td>700</td>\n",
       "      <td>25.02.2023</td>\n",
       "    </tr>\n",
       "    <tr>\n",
       "      <th>2</th>\n",
       "      <td>722</td>\n",
       "      <td>Karen Walker</td>\n",
       "      <td>None</td>\n",
       "      <td>M</td>\n",
       "      <td>NaN</td>\n",
       "      <td>kiarapeters@example.net</td>\n",
       "      <td>29197 Austin Flat\\nEast Robertmouth, NE 42823</td>\n",
       "      <td>870</td>\n",
       "      <td>17.09.2021</td>\n",
       "    </tr>\n",
       "    <tr>\n",
       "      <th>3</th>\n",
       "      <td>870</td>\n",
       "      <td>Sandra Smith</td>\n",
       "      <td>None</td>\n",
       "      <td>M</td>\n",
       "      <td>479.487.9989x242</td>\n",
       "      <td>rodney99@example.net</td>\n",
       "      <td>185 Le Villages\\nPort Johnside, WY 42113</td>\n",
       "      <td>unknown</td>\n",
       "      <td>24.11.2021</td>\n",
       "    </tr>\n",
       "    <tr>\n",
       "      <th>4</th>\n",
       "      <td>664</td>\n",
       "      <td>Alison Walsh</td>\n",
       "      <td>None</td>\n",
       "      <td>M</td>\n",
       "      <td>001-879-250-3309</td>\n",
       "      <td>denglish@example.com</td>\n",
       "      <td>295 Matthew Inlet Suite 676\\nJohnsonland, NC 4...</td>\n",
       "      <td>unknown</td>\n",
       "      <td>08.05.2022</td>\n",
       "    </tr>\n",
       "  </tbody>\n",
       "</table>\n",
       "</div>"
      ],
      "text/plain": [
       "    ID               Name   Age Gender             Phone  \\\n",
       "0  177       James Rhodes  None      M      504.554.3776   \n",
       "1  984  Kimberly Crawford  None    NaN               NaN   \n",
       "2  722       Karen Walker  None      M               NaN   \n",
       "3  870       Sandra Smith  None      M  479.487.9989x242   \n",
       "4  664       Alison Walsh  None      M  001-879-250-3309   \n",
       "\n",
       "                     Email                                            Address  \\\n",
       "0   fostergina@example.com  3892 Kathleen Square Apt. 817\\nLake Jill, AZ 1...   \n",
       "1     krussell@example.com     51987 Bush Ranch Suite 663\\nScottton, PA 03611   \n",
       "2  kiarapeters@example.net      29197 Austin Flat\\nEast Robertmouth, NE 42823   \n",
       "3     rodney99@example.net           185 Le Villages\\nPort Johnside, WY 42113   \n",
       "4     denglish@example.com  295 Matthew Inlet Suite 676\\nJohnsonland, NC 4...   \n",
       "\n",
       "  Credit_Score Last_Purchase_Date  \n",
       "0      unknown         19.09.2021  \n",
       "1          700         25.02.2023  \n",
       "2          870         17.09.2021  \n",
       "3      unknown         24.11.2021  \n",
       "4      unknown         08.05.2022  "
      ]
     },
     "execution_count": 15,
     "metadata": {},
     "output_type": "execute_result"
    }
   ],
   "source": [
    "data.head()\n"
   ]
  },
  {
   "cell_type": "code",
   "execution_count": 21,
   "id": "d89c4364",
   "metadata": {},
   "outputs": [
    {
     "data": {
      "text/plain": [
       "0     52.0\n",
       "1     56.0\n",
       "2     59.0\n",
       "3      NaN\n",
       "4     77.0\n",
       "5     41.0\n",
       "6     58.0\n",
       "7      NaN\n",
       "8      NaN\n",
       "9     41.0\n",
       "10    78.0\n",
       "11    42.0\n",
       "12    40.0\n",
       "13    43.0\n",
       "14    30.0\n",
       "Name: Age, dtype: float64"
      ]
     },
     "execution_count": 21,
     "metadata": {},
     "output_type": "execute_result"
    }
   ],
   "source": [
    "data['Age']"
   ]
  },
  {
   "cell_type": "code",
   "execution_count": 23,
   "id": "883c4f1c",
   "metadata": {},
   "outputs": [],
   "source": [
    "data['Age'] = data['Age'].astype('Int64')\n",
    "median_age = data['Age'].median()\n",
    "median_age=round(median_age)\n",
    "data['Age'].fillna(median_age, inplace=True)"
   ]
  },
  {
   "cell_type": "code",
   "execution_count": 24,
   "id": "f107c647",
   "metadata": {},
   "outputs": [
    {
     "data": {
      "text/plain": [
       "0     52\n",
       "1     56\n",
       "2     59\n",
       "3     48\n",
       "4     77\n",
       "5     41\n",
       "6     58\n",
       "7     48\n",
       "8     48\n",
       "9     41\n",
       "10    78\n",
       "11    42\n",
       "12    40\n",
       "13    43\n",
       "14    30\n",
       "Name: Age, dtype: Int64"
      ]
     },
     "execution_count": 24,
     "metadata": {},
     "output_type": "execute_result"
    }
   ],
   "source": [
    "data['Age']"
   ]
  },
  {
   "cell_type": "code",
   "execution_count": 25,
   "id": "6a25c338",
   "metadata": {},
   "outputs": [],
   "source": [
    "data['Gender'].fillna('Unknown', inplace=True)\n",
    "data['Phone'].fillna('Unknown', inplace=True)\n",
    "data['Address'].fillna('Unknown', inplace=True)"
   ]
  },
  {
   "cell_type": "code",
   "execution_count": 26,
   "id": "40292cb0",
   "metadata": {},
   "outputs": [
    {
     "data": {
      "text/plain": [
       "0           M\n",
       "1     Unknown\n",
       "2           M\n",
       "3           M\n",
       "4           M\n",
       "5           M\n",
       "6           F\n",
       "7           F\n",
       "8           M\n",
       "9     Unknown\n",
       "10          M\n",
       "11          M\n",
       "12          F\n",
       "13          M\n",
       "14          F\n",
       "Name: Gender, dtype: object"
      ]
     },
     "execution_count": 26,
     "metadata": {},
     "output_type": "execute_result"
    }
   ],
   "source": [
    "data['Gender']"
   ]
  },
  {
   "cell_type": "code",
   "execution_count": 27,
   "id": "f9a09607",
   "metadata": {},
   "outputs": [
    {
     "data": {
      "text/plain": [
       "0             504.554.3776\n",
       "1                  Unknown\n",
       "2                  Unknown\n",
       "3         479.487.9989x242\n",
       "4         001-879-250-3309\n",
       "5         510-232-7358x300\n",
       "6             881.432.9428\n",
       "7               2879941085\n",
       "8      (695)406-9894x90477\n",
       "9               5716794807\n",
       "10           (213)445-6777\n",
       "11    +1-400-696-8787x6689\n",
       "12     +1-906-322-0072x276\n",
       "13           (693)989-4358\n",
       "14            357.864.0856\n",
       "Name: Phone, dtype: object"
      ]
     },
     "execution_count": 27,
     "metadata": {},
     "output_type": "execute_result"
    }
   ],
   "source": [
    "data['Phone']"
   ]
  },
  {
   "cell_type": "code",
   "execution_count": 28,
   "id": "42ef27bf",
   "metadata": {},
   "outputs": [
    {
     "data": {
      "text/plain": [
       "0     3892 Kathleen Square Apt. 817\\nLake Jill, AZ 1...\n",
       "1        51987 Bush Ranch Suite 663\\nScottton, PA 03611\n",
       "2         29197 Austin Flat\\nEast Robertmouth, NE 42823\n",
       "3              185 Le Villages\\nPort Johnside, WY 42113\n",
       "4     295 Matthew Inlet Suite 676\\nJohnsonland, NC 4...\n",
       "5       7639 Farmer Park Apt. 847\\nNew Steven, MA 50197\n",
       "6            05765 Jennifer Creek\\nCamposland, KS 85868\n",
       "7        8243 Burch Fords\\nNorth Kennethhaven, WY 90915\n",
       "8          59692 Lopez Crossing\\nNorth Hannah, WY 99739\n",
       "9                                               Unknown\n",
       "10    108 Collins Villages Apt. 979\\nEast Stephanie,...\n",
       "11    786 Sarah Islands Suite 239\\nSchmidtside, PR 0...\n",
       "12              260 Dunlap Pike\\nEscobarville, AR 49939\n",
       "13       3529 Stephen Greens\\nNorth Wendyfort, KS 86983\n",
       "14    45618 Torres Underpass Suite 584\\nSuzanneville...\n",
       "Name: Address, dtype: object"
      ]
     },
     "execution_count": 28,
     "metadata": {},
     "output_type": "execute_result"
    }
   ],
   "source": [
    "data['Address']"
   ]
  },
  {
   "cell_type": "code",
   "execution_count": 30,
   "id": "855a825e",
   "metadata": {},
   "outputs": [
    {
     "name": "stderr",
     "output_type": "stream",
     "text": [
      "C:\\Users\\Banu\\AppData\\Local\\Temp\\ipykernel_27364\\3008408213.py:1: UserWarning: Parsing dates in DD/MM/YYYY format when dayfirst=False (the default) was specified. This may lead to inconsistently parsed dates! Specify a format to ensure consistent parsing.\n",
      "  most_recent_date=pd.to_datetime(data['Last_Purchase_Date']).max()\n"
     ]
    }
   ],
   "source": [
    "most_recent_date=pd.to_datetime(data['Last_Purchase_Date']).max()\n",
    "data['Last_Purchase_Date'].fillna(most_recent_date,inplace=True)\n"
   ]
  },
  {
   "cell_type": "code",
   "execution_count": 31,
   "id": "305c7606",
   "metadata": {},
   "outputs": [
    {
     "data": {
      "text/plain": [
       "0              19.09.2021\n",
       "1              25.02.2023\n",
       "2              17.09.2021\n",
       "3              24.11.2021\n",
       "4              08.05.2022\n",
       "5              31.01.2023\n",
       "6              17.07.2022\n",
       "7     2023-10-04 00:00:00\n",
       "8              22.11.2021\n",
       "9              10.04.2023\n",
       "10             27.11.2021\n",
       "11             31.03.2023\n",
       "12             27.02.2022\n",
       "13             31.01.2023\n",
       "14             25.06.2023\n",
       "Name: Last_Purchase_Date, dtype: object"
      ]
     },
     "execution_count": 31,
     "metadata": {},
     "output_type": "execute_result"
    }
   ],
   "source": [
    "data['Last_Purchase_Date']\n"
   ]
  },
  {
   "cell_type": "code",
   "execution_count": 32,
   "id": "4653241a",
   "metadata": {},
   "outputs": [],
   "source": [
    "data['Credit_Score']=pd.to_numeric(data['Credit_Score'],errors='coerce')\n",
    "mean_credit_score=data['Credit_Score'].mean()\n",
    "data['Credit_Score'].fillna(mean_credit_score,inplace=True)"
   ]
  },
  {
   "cell_type": "code",
   "execution_count": 33,
   "id": "f6f5aa17",
   "metadata": {},
   "outputs": [
    {
     "data": {
      "text/plain": [
       "0     775.916667\n",
       "1     700.000000\n",
       "2     870.000000\n",
       "3     775.916667\n",
       "4     775.916667\n",
       "5     798.000000\n",
       "6     842.000000\n",
       "7     793.000000\n",
       "8     865.000000\n",
       "9     855.000000\n",
       "10    715.000000\n",
       "11    844.000000\n",
       "12    656.000000\n",
       "13    832.000000\n",
       "14    541.000000\n",
       "Name: Credit_Score, dtype: float64"
      ]
     },
     "execution_count": 33,
     "metadata": {},
     "output_type": "execute_result"
    }
   ],
   "source": [
    "data['Credit_Score']"
   ]
  },
  {
   "cell_type": "code",
   "execution_count": 34,
   "id": "1d6bc033",
   "metadata": {},
   "outputs": [
    {
     "name": "stdout",
     "output_type": "stream",
     "text": [
      "    ID               Name  Age   Gender             Phone  \\\n",
      "0  177       James Rhodes   52        M      504.554.3776   \n",
      "1  984  Kimberly Crawford   56  Unknown           Unknown   \n",
      "2  722       Karen Walker   59        M           Unknown   \n",
      "3  870       Sandra Smith   48        M  479.487.9989x242   \n",
      "4  664       Alison Walsh   77        M  001-879-250-3309   \n",
      "\n",
      "                     Email                                            Address  \\\n",
      "0   fostergina@example.com  3892 Kathleen Square Apt. 817\\nLake Jill, AZ 1...   \n",
      "1     krussell@example.com     51987 Bush Ranch Suite 663\\nScottton, PA 03611   \n",
      "2  kiarapeters@example.net      29197 Austin Flat\\nEast Robertmouth, NE 42823   \n",
      "3     rodney99@example.net           185 Le Villages\\nPort Johnside, WY 42113   \n",
      "4     denglish@example.com  295 Matthew Inlet Suite 676\\nJohnsonland, NC 4...   \n",
      "\n",
      "   Credit_Score Last_Purchase_Date  \n",
      "0    775.916667         19.09.2021  \n",
      "1    700.000000         25.02.2023  \n",
      "2    870.000000         17.09.2021  \n",
      "3    775.916667         24.11.2021  \n",
      "4    775.916667         08.05.2022  \n"
     ]
    }
   ],
   "source": [
    "data.drop_duplicates(inplace=True)\n",
    "print(data.head())"
   ]
  },
  {
   "cell_type": "code",
   "execution_count": 37,
   "id": "baba1b31",
   "metadata": {},
   "outputs": [],
   "source": [
    "df=pd.DataFrame(data)\n",
    "file_path = 'cleaned_sample_data.csv'\n",
    "df.to_csv(file_path,index=False)"
   ]
  },
  {
   "cell_type": "code",
   "execution_count": null,
   "id": "b00b7165",
   "metadata": {},
   "outputs": [],
   "source": []
  }
 ],
 "metadata": {
  "kernelspec": {
   "display_name": "Python 3 (ipykernel)",
   "language": "python",
   "name": "python3"
  },
  "language_info": {
   "codemirror_mode": {
    "name": "ipython",
    "version": 3
   },
   "file_extension": ".py",
   "mimetype": "text/x-python",
   "name": "python",
   "nbconvert_exporter": "python",
   "pygments_lexer": "ipython3",
   "version": "3.11.4"
  }
 },
 "nbformat": 4,
 "nbformat_minor": 5
}
